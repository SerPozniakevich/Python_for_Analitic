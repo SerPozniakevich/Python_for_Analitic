{
 "cells": [
  {
   "cell_type": "markdown",
   "id": "6c42a7be",
   "metadata": {},
   "source": [
    "## Условие 1:\n",
    "### Оформляйте ноутбук, используя эти советы:<br>Номер задачи - заголовок 2<br>Номер подзадачи -  заголовок 3<br>Предоставленные наборы данных оформляйте, как код."
   ]
  },
  {
   "cell_type": "markdown",
   "id": "e4f75012",
   "metadata": {},
   "source": [
    "## Задание 2:\n",
    "### На складе лежат разные фрукты в разном количестве.<br> Нужно написать функцию, которая на вход принимает любое количество названий фруктов и их количество, а возвращает общее количество фруктов на складе"
   ]
  },
  {
   "cell_type": "code",
   "execution_count": 19,
   "id": "e9f8d545",
   "metadata": {},
   "outputs": [],
   "source": [
    "def warehouse(**kwargs):\n",
    "    all_fruits = sum(kwargs.values())\n",
    "    return f'Всего фруктов на складе: {all_fruits} кг'"
   ]
  },
  {
   "cell_type": "code",
   "execution_count": 20,
   "id": "2b6bb98a",
   "metadata": {},
   "outputs": [
    {
     "data": {
      "text/plain": [
       "'Всего фруктов на складе: 990 кг'"
      ]
     },
     "execution_count": 20,
     "metadata": {},
     "output_type": "execute_result"
    }
   ],
   "source": [
    "warehouse(orange = 140, aple = 220, kiwi = 130, banana = 300, peach = 200)"
   ]
  },
  {
   "cell_type": "markdown",
   "id": "929ac4c4",
   "metadata": {},
   "source": [
    "## Задание 3:\n",
    "### Дан список с затратами на рекламу.<br> Но в данных есть ошибки, некоторые затраты имеют отрицательную величину. <br>Удалите такие значения из списка и посчитайте суммарные затраты<br> [100, 125, -90, 345, 655, -1, 0, 200] <br>Используйте list comprehensions"
   ]
  },
  {
   "cell_type": "code",
   "execution_count": 21,
   "id": "02f1c82d",
   "metadata": {},
   "outputs": [],
   "source": [
    "expenses = [100, 125, -90, 345, 655, -1, 0, 200]"
   ]
  },
  {
   "cell_type": "code",
   "execution_count": 22,
   "id": "d33ec4c5",
   "metadata": {},
   "outputs": [
    {
     "name": "stdout",
     "output_type": "stream",
     "text": [
      "Испpавленный список затрат: [100, 125, 345, 655, 200], Итого: 1425\n"
     ]
    }
   ],
   "source": [
    "expenses_true = [i for i in expenses if i > 0]\n",
    "print(f'Испpавленный список затрат: {expenses_true}, Итого: {sum(expenses_true)}')"
   ]
  },
  {
   "cell_type": "markdown",
   "id": "427844d9",
   "metadata": {},
   "source": [
    "## Задание 4.<br>Даны два списка.\n",
    "### Дата покупки"
   ]
  },
  {
   "cell_type": "code",
   "execution_count": 31,
   "id": "7699c4a8",
   "metadata": {},
   "outputs": [],
   "source": [
    "date_profit = ['2021-09-14', '2021-12-15', '2021-09-08', '2021-12-05', '2021-10-09', '2021-09-30', '2021-12-22',\n",
    "              '2021-11-29', '2021-12-24', '2021-11-26', '2021-10-27', '2021-12-18', '2021-11-09', '2021-11-23',\n",
    "              '2021-09-27', '2021-10-02', '2021-12-27', '2021-09-20', '2021-12-13', '2021-11-01', '2021-11-09',\n",
    "              '2021-12-06', '2021-12-08', '2021-10-09', '2021-10-31', '2021-09-30', '2021-11-09', '2021-12-13',\n",
    "              '2021-10-26', '2021-12-09']"
   ]
  },
  {
   "cell_type": "markdown",
   "id": "98204ffa",
   "metadata": {},
   "source": [
    "### Суммы покупок по датам"
   ]
  },
  {
   "cell_type": "code",
   "execution_count": 32,
   "id": "8b5b9e5f",
   "metadata": {},
   "outputs": [],
   "source": [
    "profit = [1270, 8413, 9028, 3703, 5739, 4095, 295, 4944, 5723, 3701, 4471, 651, 7037, 4274, 6275, 4988, 6930,\n",
    "            2971, 6592, 2004, 2822, 519, 3406, 2732, 5015, 2008, 316, 6333, 5700, 2887]"
   ]
  },
  {
   "cell_type": "markdown",
   "id": "1fc27a11",
   "metadata": {},
   "source": [
    "### 4.1 Найдите, какая выручка у компании в ноябре.<br>Используйте list comprehensions"
   ]
  },
  {
   "cell_type": "code",
   "execution_count": 33,
   "id": "005b40df",
   "metadata": {},
   "outputs": [],
   "source": [
    "def nov_profit(period: list, prof: list) -> list:\n",
    "    return sum(prof[i] for i in range(len(period)-1) if '-11-' in period[i])"
   ]
  },
  {
   "cell_type": "code",
   "execution_count": 34,
   "id": "1c86c2fd",
   "metadata": {},
   "outputs": [
    {
     "name": "stdout",
     "output_type": "stream",
     "text": [
      "Выручка в ноябе составила: 25098\n"
     ]
    }
   ],
   "source": [
    "print(f'Выручка в ноябе составила: {nov_profit(date_profit, profit)}')"
   ]
  },
  {
   "cell_type": "markdown",
   "id": "92efe7ae",
   "metadata": {},
   "source": [
    "### 4.2 Найдите выручку компании в зависимости от месяца.<br> Для этого напишите функцию, которая на вход принимает список с датами и список с выручкой, а на выходе словарь, где ключи - это месяцы, а значения - это выручка.<br>Используйте аннотирование типов."
   ]
  },
  {
   "cell_type": "code",
   "execution_count": 35,
   "id": "349f627a",
   "metadata": {},
   "outputs": [],
   "source": [
    "def profit_count(period: list, prof: list) -> dict:\n",
    "    prof_months = {}\n",
    "    for i in range(len(period)):\n",
    "        month = period[i].split('-')[1]\n",
    "        if month in prof_months.keys():\n",
    "            prof_months[month] += prof[i]\n",
    "        else:\n",
    "            prof_months[month] = prof[i]\n",
    "    return prof_months"
   ]
  },
  {
   "cell_type": "code",
   "execution_count": 36,
   "id": "7032d4c7",
   "metadata": {},
   "outputs": [
    {
     "name": "stdout",
     "output_type": "stream",
     "text": [
      "Затраты на рекламму по месяцим составили: {'09': 25647, '12': 45452, '10': 28645, '11': 25098}\n"
     ]
    }
   ],
   "source": [
    "print(f'Затраты на рекламму по месяцим составили: {profit_count(date_profit, profit)}')"
   ]
  },
  {
   "cell_type": "code",
   "execution_count": null,
   "id": "f2643f89",
   "metadata": {},
   "outputs": [],
   "source": []
  }
 ],
 "metadata": {
  "kernelspec": {
   "display_name": "Python 3 (ipykernel)",
   "language": "python",
   "name": "python3"
  },
  "language_info": {
   "codemirror_mode": {
    "name": "ipython",
    "version": 3
   },
   "file_extension": ".py",
   "mimetype": "text/x-python",
   "name": "python",
   "nbconvert_exporter": "python",
   "pygments_lexer": "ipython3",
   "version": "3.9.13"
  }
 },
 "nbformat": 4,
 "nbformat_minor": 5
}
